{
 "cells": [
  {
   "cell_type": "code",
   "execution_count": 2,
   "metadata": {},
   "outputs": [
    {
     "name": "stdout",
     "output_type": "stream",
     "text": [
      "Requirement already satisfied: PyPortfolioOpt in c:\\users\\shane\\anaconda3\\lib\\site-packages (1.2.6)\n",
      "Requirement already satisfied: cvxopt<2.0,>=1.2 in c:\\users\\shane\\anaconda3\\lib\\site-packages (from PyPortfolioOpt) (1.2.5.post1)\n",
      "Requirement already satisfied: numpy<2.0,>=1.12 in c:\\users\\shane\\anaconda3\\lib\\site-packages (from PyPortfolioOpt) (1.18.5)\n",
      "Requirement already satisfied: scipy<2.0,>=1.3 in c:\\users\\shane\\anaconda3\\lib\\site-packages (from PyPortfolioOpt) (1.4.1)\n",
      "Requirement already satisfied: pandas>=0.19 in c:\\users\\shane\\appdata\\roaming\\python\\python37\\site-packages (from PyPortfolioOpt) (1.0.4)\n",
      "Requirement already satisfied: cvxpy<2.0,>=1.0 in c:\\users\\shane\\appdata\\roaming\\python\\python37\\site-packages (from PyPortfolioOpt) (1.1.1)\n",
      "Requirement already satisfied: pytz>=2017.2 in c:\\users\\shane\\anaconda3\\lib\\site-packages (from pandas>=0.19->PyPortfolioOpt) (2020.1)\n",
      "Requirement already satisfied: python-dateutil>=2.6.1 in c:\\users\\shane\\anaconda3\\lib\\site-packages (from pandas>=0.19->PyPortfolioOpt) (2.8.1)\n",
      "Requirement already satisfied: osqp>=0.4.1 in c:\\users\\shane\\anaconda3\\lib\\site-packages (from cvxpy<2.0,>=1.0->PyPortfolioOpt) (0.6.1)\n",
      "Requirement already satisfied: scs>=1.1.3 in c:\\users\\shane\\anaconda3\\lib\\site-packages (from cvxpy<2.0,>=1.0->PyPortfolioOpt) (2.1.2)\n",
      "Requirement already satisfied: ecos>=2 in c:\\users\\shane\\anaconda3\\lib\\site-packages (from cvxpy<2.0,>=1.0->PyPortfolioOpt) (2.0.7.post1)\n",
      "Requirement already satisfied: six>=1.5 in c:\\users\\shane\\anaconda3\\lib\\site-packages (from python-dateutil>=2.6.1->pandas>=0.19->PyPortfolioOpt) (1.15.0)\n",
      "Requirement already satisfied: future in c:\\users\\shane\\anaconda3\\lib\\site-packages (from osqp>=0.4.1->cvxpy<2.0,>=1.0->PyPortfolioOpt) (0.18.2)\n",
      "Requirement already satisfied: PyPortfolioOpt in c:\\users\\shane\\anaconda3\\lib\\site-packages (1.2.6)\n",
      "Requirement already satisfied: numpy<2.0,>=1.12 in c:\\users\\shane\\anaconda3\\lib\\site-packages (from PyPortfolioOpt) (1.18.5)\n",
      "Requirement already satisfied: cvxpy<2.0,>=1.0 in c:\\users\\shane\\appdata\\roaming\\python\\python37\\site-packages (from PyPortfolioOpt) (1.1.1)\n",
      "Requirement already satisfied: scipy<2.0,>=1.3 in c:\\users\\shane\\anaconda3\\lib\\site-packages (from PyPortfolioOpt) (1.4.1)\n",
      "Requirement already satisfied: pandas>=0.19 in c:\\users\\shane\\appdata\\roaming\\python\\python37\\site-packages (from PyPortfolioOpt) (1.0.4)\n",
      "Requirement already satisfied: cvxopt<2.0,>=1.2 in c:\\users\\shane\\anaconda3\\lib\\site-packages (from PyPortfolioOpt) (1.2.5.post1)\n",
      "Requirement already satisfied: scs>=1.1.3 in c:\\users\\shane\\anaconda3\\lib\\site-packages (from cvxpy<2.0,>=1.0->PyPortfolioOpt) (2.1.2)\n",
      "Requirement already satisfied: osqp>=0.4.1 in c:\\users\\shane\\anaconda3\\lib\\site-packages (from cvxpy<2.0,>=1.0->PyPortfolioOpt) (0.6.1)\n",
      "Requirement already satisfied: ecos>=2 in c:\\users\\shane\\anaconda3\\lib\\site-packages (from cvxpy<2.0,>=1.0->PyPortfolioOpt) (2.0.7.post1)\n",
      "Requirement already satisfied: python-dateutil>=2.6.1 in c:\\users\\shane\\anaconda3\\lib\\site-packages (from pandas>=0.19->PyPortfolioOpt) (2.8.1)\n",
      "Requirement already satisfied: pytz>=2017.2 in c:\\users\\shane\\anaconda3\\lib\\site-packages (from pandas>=0.19->PyPortfolioOpt) (2020.1)\n",
      "Requirement already satisfied: future in c:\\users\\shane\\anaconda3\\lib\\site-packages (from osqp>=0.4.1->cvxpy<2.0,>=1.0->PyPortfolioOpt) (0.18.2)\n",
      "Requirement already satisfied: six>=1.5 in c:\\users\\shane\\anaconda3\\lib\\site-packages (from python-dateutil>=2.6.1->pandas>=0.19->PyPortfolioOpt) (1.15.0)\n"
     ]
    }
   ],
   "source": [
    "!pip install PyPortfolioOpt\n",
    "import mlfinlab\n",
    "import pandas as pd\n",
    "import yfinance as yf\n",
    "from mlfinlab.portfolio_optimization.tic import TIC\n",
    "from datetime import datetime, timedelta\n",
    "!pip install PyPortfolioOpt\n",
    "import pypfopt\n",
    "pypfopt.__version__\n",
    "from pypfopt import EfficientFrontier\n",
    "from pypfopt import risk_models\n",
    "from pypfopt import expected_returns,plotting\n",
    "from pypfopt.discrete_allocation import DiscreteAllocation, get_latest_prices"
   ]
  },
  {
   "cell_type": "code",
   "execution_count": 73,
   "metadata": {},
   "outputs": [],
   "source": [
    "def monthdelta(date, delta):\n",
    "    m, y = (date.month+delta) % 12, date.year + ((date.month)+delta-1) // 12\n",
    "    if not m: m = 12\n",
    "    d = min(date.day, [31,\n",
    "        29 if y%4==0 and (not y%100==0 or y%400 == 0) else 28,\n",
    "        31,30,31,30,31,31,30,31,30,31][m-1])\n",
    "    return date.replace(day=d,month=m, year=y)\n",
    "\n",
    "END_DATE = datetime.today() - timedelta(days = 1) #END_DATE is set to yesterday"
   ]
  },
  {
   "cell_type": "code",
   "execution_count": 74,
   "metadata": {},
   "outputs": [],
   "source": [
    "##For Asset Class"
   ]
  },
  {
   "cell_type": "code",
   "execution_count": 75,
   "metadata": {},
   "outputs": [
    {
     "data": {
      "text/html": [
       "<div>\n",
       "<style scoped>\n",
       "    .dataframe tbody tr th:only-of-type {\n",
       "        vertical-align: middle;\n",
       "    }\n",
       "\n",
       "    .dataframe tbody tr th {\n",
       "        vertical-align: top;\n",
       "    }\n",
       "\n",
       "    .dataframe thead th {\n",
       "        text-align: right;\n",
       "    }\n",
       "</style>\n",
       "<table border=\"1\" class=\"dataframe\">\n",
       "  <thead>\n",
       "    <tr style=\"text-align: right;\">\n",
       "      <th></th>\n",
       "      <th>Ticker</th>\n",
       "      <th>Asset Class</th>\n",
       "      <th>Structure</th>\n",
       "    </tr>\n",
       "  </thead>\n",
       "  <tbody>\n",
       "    <tr>\n",
       "      <th>0</th>\n",
       "      <td>TLT</td>\n",
       "      <td>215</td>\n",
       "      <td>2</td>\n",
       "    </tr>\n",
       "    <tr>\n",
       "      <th>1</th>\n",
       "      <td>SPY</td>\n",
       "      <td>225</td>\n",
       "      <td>2</td>\n",
       "    </tr>\n",
       "    <tr>\n",
       "      <th>2</th>\n",
       "      <td>LQD</td>\n",
       "      <td>235</td>\n",
       "      <td>2</td>\n",
       "    </tr>\n",
       "    <tr>\n",
       "      <th>3</th>\n",
       "      <td>0P0000P1BG.F</td>\n",
       "      <td>215</td>\n",
       "      <td>2</td>\n",
       "    </tr>\n",
       "    <tr>\n",
       "      <th>4</th>\n",
       "      <td>EXSA.DE</td>\n",
       "      <td>225</td>\n",
       "      <td>2</td>\n",
       "    </tr>\n",
       "    <tr>\n",
       "      <th>5</th>\n",
       "      <td>0P00000RNA.F</td>\n",
       "      <td>235</td>\n",
       "      <td>2</td>\n",
       "    </tr>\n",
       "  </tbody>\n",
       "</table>\n",
       "</div>"
      ],
      "text/plain": [
       "         Ticker  Asset Class  Structure\n",
       "0           TLT          215          2\n",
       "1           SPY          225          2\n",
       "2           LQD          235          2\n",
       "3  0P0000P1BG.F          215          2\n",
       "4       EXSA.DE          225          2\n",
       "5  0P00000RNA.F          235          2"
      ]
     },
     "execution_count": 75,
     "metadata": {},
     "output_type": "execute_result"
    }
   ],
   "source": [
    "\n",
    "# TLT : iShares 20 Plus Year Treasury Bond ETF\n",
    "# SPY : SPDR S&P 500 ETF Trust (SPY)\n",
    "# LQD : iShares iBoxx $ Investment Grade Corporate Bond ETF\n",
    "# 0P0000P1BG.F : Vanguard Euro Government Bond Index Fund Investor EUR Accumulation\n",
    "# EXSA.DE : iShares STOXX Europe 600 UCITS ETF\n",
    "# 0P00000RNA.F : iShares Euro Credit Bond Index Fund \n",
    "\n",
    "data = {\"Ticker\": [\"TLT\",\"SPY\",\"LQD\",\"0P0000P1BG.F\", \"EXSA.DE\", \"0P00000RNA.F\"],\n",
    "        \"Asset Class\":[215,225,235,215,225,235],\n",
    "       \"Structure\":[2,2,2,2,2,2],}\n",
    "df = pd.DataFrame(data)\n",
    "\n",
    "\n",
    "\n",
    "\n",
    "\n",
    "#The numbers in table just represent the category of asset class, They do not matter as long as they are consistent\n",
    "#Structure column is just added because the code must have 2 columns to evaluate TIC matrix\n",
    "#Here, Government Bond : Code 15 ; Equity : Code 25; Corporate Bond : Code 35\n",
    "    \n",
    "\n",
    "df"
   ]
  },
  {
   "cell_type": "code",
   "execution_count": 76,
   "metadata": {},
   "outputs": [
    {
     "name": "stdout",
     "output_type": "stream",
     "text": [
      "[*********************100%***********************]  6 of 6 completed\n",
      "            0P00000RNA.F  0P0000P1BG.F    EXSA.DE         LQD         SPY  \\\n",
      "Date                                                                        \n",
      "2019-03-14    214.328003     22.625999  36.191513  110.575577  272.031006   \n",
      "2019-03-15    214.386993     22.635000  36.487938  110.974419  273.375031   \n",
      "2019-03-18    214.802002     22.662001  36.550987  110.917458  274.366241   \n",
      "2019-03-19    214.503006     22.652000  36.764366  110.936440  274.434265   \n",
      "2019-03-20    214.544998     22.665001  36.424896  111.686646  273.608215   \n",
      "\n",
      "                   TLT  \n",
      "Date                    \n",
      "2019-03-14  117.193222  \n",
      "2019-03-15  117.968384  \n",
      "2019-03-18  117.900543  \n",
      "2019-03-19  117.638939  \n",
      "2019-03-20  118.869492  \n"
     ]
    }
   ],
   "source": [
    "\n",
    "data_opt = yf.download(\"TLT SPY LQD  0P0000P1BG.F EXSA.DE 0P00000RNA.F \", monthdelta(END_DATE,-20), monthdelta(END_DATE,-1))\n",
    "data_opt = data_opt[\"Adj Close\"]\n",
    "\n",
    "print(data_opt.head())\n"
   ]
  },
  {
   "cell_type": "code",
   "execution_count": 77,
   "metadata": {},
   "outputs": [
    {
     "name": "stdout",
     "output_type": "stream",
     "text": [
      "[0.0028744594881572744, 0.0017766298789372314, 0.014454646201695188, 0.008576706087767266, 0.017022575578484713, 0.01168503624321027]\n"
     ]
    }
   ],
   "source": [
    "stock_returns =  expected_returns.returns_from_prices(data_opt)\n",
    "\n",
    "std_ticker = []\n",
    "for key in stock_returns:\n",
    "    std_ticker.append(stock_returns[key].std())\n",
    "print(std_ticker)\n"
   ]
  },
  {
   "cell_type": "code",
   "execution_count": 78,
   "metadata": {},
   "outputs": [
    {
     "name": "stdout",
     "output_type": "stream",
     "text": [
      "              0P00000RNA.F  0P0000P1BG.F   EXSA.DE       LQD       SPY  \\\n",
      "0P00000RNA.F      1.000000      0.769808  0.084248  0.226952  0.018650   \n",
      "0P0000P1BG.F      0.769808      1.000000  0.100391  0.398753  0.095640   \n",
      "EXSA.DE           0.084248      0.100391  1.000000  0.254580  0.719942   \n",
      "LQD               0.226952      0.398753  0.254580  1.000000  0.306316   \n",
      "SPY               0.018650      0.095640  0.719942  0.306316  1.000000   \n",
      "TLT               0.421534      0.371338 -0.331287  0.347562 -0.483184   \n",
      "\n",
      "                   TLT  \n",
      "0P00000RNA.F  0.421534  \n",
      "0P0000P1BG.F  0.371338  \n",
      "EXSA.DE      -0.331287  \n",
      "LQD           0.347562  \n",
      "SPY          -0.483184  \n",
      "TLT           1.000000  \n",
      "68.16666666666667\n"
     ]
    }
   ],
   "source": [
    "\n",
    "\n",
    "# Calculating the empirical correlation matrix\n",
    "corr_matrix = stock_returns.corr()\n",
    "\n",
    "print(corr_matrix)\n",
    "\n",
    "# Calculating the relation of sample length T to the number of variables N\n",
    "# It's used for de-noising the TIC matrix\n",
    "tn_relation = stock_returns.shape[0] / stock_returns.shape[1]\n",
    "print(tn_relation)\n",
    "\n",
    "# The class that contains the TIC algorithm\n",
    "tic = TIC()\n",
    "\n",
    "# Calculating the Theory-Implied Correlation matrix\n",
    "tic_matrix = pd.DataFrame(tic.tic_correlation(df, corr_matrix, tn_relation, kde_bwidth=0.01))\n",
    "\n",
    "\n",
    "\n",
    "# Calculating the distance between the empirical and the theory-implied correlation matrices\n",
    "#matrix_distance = tic.corr_dist(corr_matrix, tic_matrix)\n",
    "#print(matrix_distance)"
   ]
  },
  {
   "cell_type": "code",
   "execution_count": 79,
   "metadata": {},
   "outputs": [],
   "source": [
    "##For Country"
   ]
  },
  {
   "cell_type": "code",
   "execution_count": 80,
   "metadata": {},
   "outputs": [],
   "source": [
    "\n",
    "# TLT : iShares 20 Plus Year Treasury Bond ETF\n",
    "# SPY : SPDR S&P 500 ETF Trust (SPY)\n",
    "# LQD : iShares iBoxx $ Investment Grade Corporate Bond ETF\n",
    "# 0P0000P1BG.F : Vanguard Euro Government Bond Index Fund Investor EUR Accumulation\n",
    "# EXSA.DE : iShares STOXX Europe 600 UCITS ETF\n",
    "# 0P00000RNA.F : iShares Euro Credit Bond Index Fund \n",
    "\n",
    "\n",
    "data = {\"Ticker\": [\"TLT\",\"SPY\",\"LQD\",\"0P0000P1BG.F\", \"EXSA.DE\", \"0P00000RNA.F\"],\n",
    "        \"Country\":[115,115,115,125,125,125],\n",
    "       \"Structure\":[1,1,1,1,1,1]}\n",
    "\n",
    "#The numbers in table just represent the category of asset class, They do not matter as long as they are consistent\n",
    "#Structure column is just added because the code must have 2 columns to evaluate TIC matrix\n",
    "#Here, USA : Code 15 ; Europe : Code 25\n",
    "\n",
    "df = pd.DataFrame(data)"
   ]
  },
  {
   "cell_type": "code",
   "execution_count": 81,
   "metadata": {},
   "outputs": [
    {
     "name": "stdout",
     "output_type": "stream",
     "text": [
      "              0P00000RNA.F  0P0000P1BG.F   EXSA.DE       LQD       SPY  \\\n",
      "0P00000RNA.F      1.000000      0.769808  0.084248  0.226952  0.018650   \n",
      "0P0000P1BG.F      0.769808      1.000000  0.100391  0.398753  0.095640   \n",
      "EXSA.DE           0.084248      0.100391  1.000000  0.254580  0.719942   \n",
      "LQD               0.226952      0.398753  0.254580  1.000000  0.306316   \n",
      "SPY               0.018650      0.095640  0.719942  0.306316  1.000000   \n",
      "TLT               0.421534      0.371338 -0.331287  0.347562 -0.483184   \n",
      "\n",
      "                   TLT  \n",
      "0P00000RNA.F  0.421534  \n",
      "0P0000P1BG.F  0.371338  \n",
      "EXSA.DE      -0.331287  \n",
      "LQD           0.347562  \n",
      "SPY          -0.483184  \n",
      "TLT           1.000000  \n",
      "68.16666666666667\n",
      "0.08327559708171894\n"
     ]
    }
   ],
   "source": [
    "\n",
    "\n",
    "stock_returns =  expected_returns.returns_from_prices(data_opt)\n",
    "# Calculating the empirical correlation matrix\n",
    "corr_matrix = stock_returns.corr()\n",
    "\n",
    "print(corr_matrix)\n",
    "\n",
    "# Calculating the relation of sample length T to the number of variables N\n",
    "# It's used for de-noising the TIC matrix\n",
    "tn_relation = stock_returns.shape[0] / stock_returns.shape[1]\n",
    "print(tn_relation)\n",
    "\n",
    "# The class that contains the TIC algorithm\n",
    "tic = TIC()\n",
    "\n",
    "# Calculating the Theory-Implied Correlation matrix\n",
    "tic_matrix_2 = pd.DataFrame(tic.tic_correlation(df, corr_matrix, tn_relation, kde_bwidth=0.01))\n",
    "\n",
    "\n",
    "\n",
    "# Calculating the distance between the empirical and the theory-implied correlation matrices\n",
    "matrix_distance = tic.corr_dist(corr_matrix, tic_matrix)\n",
    "print(matrix_distance)"
   ]
  },
  {
   "cell_type": "code",
   "execution_count": 89,
   "metadata": {
    "scrolled": true
   },
   "outputs": [
    {
     "name": "stdout",
     "output_type": "stream",
     "text": [
      "          0         1         2         3         4         5\n",
      "0  1.000000  0.436638  0.207945  0.274845  0.244374  0.414106\n",
      "1  0.436638  1.000000  0.207905  0.414106  0.244333  0.347241\n",
      "2  0.207945  0.207905  1.000000  0.192940  0.463349  0.192900\n",
      "3  0.274845  0.414106  0.192940  1.000000  0.224921  0.394325\n",
      "4  0.244374  0.244333  0.463349  0.224921  1.000000  0.224881\n",
      "5  0.414106  0.347241  0.192900  0.394325  0.224881  1.000000\n",
      "[0.0028744594881572744, 0.0017766298789372314, 0.014454646201695188, 0.008576706087767266, 0.017022575578484713, 0.01168503624321027]\n"
     ]
    }
   ],
   "source": [
    "big_tic = (tic_matrix+tic_matrix_2)/2\n",
    "print(big_tic)\n",
    "print(std_ticker)"
   ]
  },
  {
   "cell_type": "code",
   "execution_count": 94,
   "metadata": {},
   "outputs": [
    {
     "name": "stdout",
     "output_type": "stream",
     "text": [
      "[0.0028744594881572744, 0.0017766298789372314, 0.014454646201695188, 0.008576706087767266, 0.017022575578484713, 0.01168503624321027]\n",
      "          0         1         2         3         4         5\n",
      "0  0.082625  0.022298  0.086400  0.067759  0.119574  0.139091\n",
      "1  0.022298  0.031564  0.053391  0.063100  0.073893  0.072087\n",
      "2  0.086400  0.053391  2.089368  0.239194  1.140095  0.325813\n",
      "3  0.067759  0.063100  0.239194  0.735599  0.328380  0.395189\n",
      "4  0.119574  0.073893  1.140095  0.328380  2.897681  0.447309\n",
      "5  0.139091  0.072087  0.325813  0.395189  0.447309  1.365401\n"
     ]
    }
   ],
   "source": [
    "big_tic_cov = pypfopt.risk_models.corr_to_cov(big_tic,std_ticker)*10000\n",
    "print(std_ticker)\n",
    "print(big_tic_cov)"
   ]
  },
  {
   "cell_type": "code",
   "execution_count": null,
   "metadata": {},
   "outputs": [],
   "source": []
  },
  {
   "cell_type": "code",
   "execution_count": null,
   "metadata": {},
   "outputs": [],
   "source": []
  },
  {
   "cell_type": "code",
   "execution_count": null,
   "metadata": {},
   "outputs": [],
   "source": []
  },
  {
   "cell_type": "code",
   "execution_count": null,
   "metadata": {},
   "outputs": [],
   "source": []
  }
 ],
 "metadata": {
  "colab": {
   "name": "MDM3 - TIC.ipynb",
   "provenance": []
  },
  "kernelspec": {
   "display_name": "Python 3",
   "language": "python",
   "name": "python3"
  },
  "language_info": {
   "codemirror_mode": {
    "name": "ipython",
    "version": 3
   },
   "file_extension": ".py",
   "mimetype": "text/x-python",
   "name": "python",
   "nbconvert_exporter": "python",
   "pygments_lexer": "ipython3",
   "version": "3.7.4"
  }
 },
 "nbformat": 4,
 "nbformat_minor": 1
}
