{
 "cells": [
  {
   "cell_type": "code",
   "execution_count": 39,
   "metadata": {},
   "outputs": [
    {
     "name": "stdout",
     "output_type": "stream",
     "text": [
      "Requirement already satisfied: openpyxl in c:\\users\\shane\\anaconda3\\lib\\site-packages (3.0.5)\n",
      "Requirement already satisfied: et-xmlfile in c:\\users\\shane\\anaconda3\\lib\\site-packages (from openpyxl) (1.0.1)\n",
      "Requirement already satisfied: jdcal in c:\\users\\shane\\anaconda3\\lib\\site-packages (from openpyxl) (1.4.1)\n"
     ]
    }
   ],
   "source": [
    "!pip install openpyxl"
   ]
  },
  {
   "cell_type": "code",
   "execution_count": 238,
   "metadata": {},
   "outputs": [],
   "source": [
    "import mlfinlab\n",
    "import pandas as pd\n",
    "import numpy as np\n",
    "import yfinance as yf\n",
    "from mlfinlab.portfolio_optimization.tic import TIC\n",
    "from datetime import datetime, timedelta\n",
    "import pypfopt\n",
    "from pypfopt import EfficientFrontier\n",
    "from pypfopt import risk_models\n",
    "from pypfopt import expected_returns,plotting,objective_functions\n",
    "from pypfopt.discrete_allocation import DiscreteAllocation, get_latest_prices\n",
    "from datetime import datetime,date\n",
    "import calendar\n"
   ]
  },
  {
   "cell_type": "code",
   "execution_count": 239,
   "metadata": {},
   "outputs": [],
   "source": [
    "def monthdelta(date, delta):\n",
    "    m, y = (date.month+delta) % 12, date.year + ((date.month)+delta-1) // 12\n",
    "    if not m: m = 12\n",
    "    d = min(date.day, [31,\n",
    "        29 if y%4==0 and (not y%100==0 or y%400 == 0) else 28,\n",
    "        31,30,31,30,31,31,30,31,30,31][m-1])\n",
    "    return date.replace(day=d,month=m, year=y)"
   ]
  },
  {
   "cell_type": "code",
   "execution_count": 240,
   "metadata": {},
   "outputs": [
    {
     "name": "stdout",
     "output_type": "stream",
     "text": [
      "[*********************100%***********************]  3 of 3 completed\n",
      "[*********************100%***********************]  1 of 1 completed\n"
     ]
    }
   ],
   "source": [
    "europe_tickers = [\"0P0000P1BG.F\", \"EXSA.DE\", \"0P00000RNA.F\"]\n",
    "data_eur = yf.download(\" \".join(europe_tickers),period=\"max\")\n",
    "data_eur= data_eur[\"Adj Close\"]\n",
    "currency_eur = yf.download(\" \".join([ \"EURUSD=X \"]), period = \"max\")\n",
    "currency_eur = currency_eur[\"Adj Close\"]\n"
   ]
  },
  {
   "cell_type": "code",
   "execution_count": 241,
   "metadata": {},
   "outputs": [],
   "source": [
    "for ticker in europe_tickers:\n",
    "    data_eur[ticker] = data_eur[ticker] * currency_eur\n"
   ]
  },
  {
   "cell_type": "code",
   "execution_count": 242,
   "metadata": {
    "scrolled": true
   },
   "outputs": [
    {
     "name": "stdout",
     "output_type": "stream",
     "text": [
      "[*********************100%***********************]  3 of 3 completed\n"
     ]
    }
   ],
   "source": [
    "portfolio_tickers = [\"SPY\", \"LQD\", \"TLT\"]\n",
    "\n",
    "data_opt = yf.download(\" \".join(portfolio_tickers),period=\"max\")\n",
    "\n",
    "data_opt = data_opt[\"Adj Close\"]\n",
    "for ticker in europe_tickers:\n",
    "    data_opt[ticker] = data_eur[ticker]\n"
   ]
  },
  {
   "cell_type": "code",
   "execution_count": 243,
   "metadata": {},
   "outputs": [],
   "source": [
    "data_opt.to_excel(r\"C:\\Users\\Shane\\Desktop\\Year 3\\Mathematical and Data Modelling\\MDM3_data.xlsx\", index = True)"
   ]
  },
  {
   "cell_type": "code",
   "execution_count": 244,
   "metadata": {},
   "outputs": [],
   "source": [
    "path = (r\"C:\\Users\\Shane\\Desktop\\Year 3\\Mathematical and Data Modelling\\MDM3_data.xlsx\")\n",
    "data_final = pd.read_excel(path,index_col = \"Date\")\n"
   ]
  },
  {
   "cell_type": "code",
   "execution_count": 433,
   "metadata": {},
   "outputs": [],
   "source": [
    "def optimisation(data_opt, covariance,target_volatility):\n",
    "    cleaned_weights = {}\n",
    "    \n",
    "    # Calculate the expected returns and covariance matrix based on that month\n",
    "    mu = expected_returns.mean_historical_return(data_opt)\n",
    "    S = tic_covariances(data_opt)[covariance]\n",
    "    # Optimise mean - variance to get weights for initialising investment process\n",
    "    ef = EfficientFrontier(mu, S)\n",
    "    #ef.add_objective(objective_functions.L2_reg, gamma = 1)\n",
    "    #print(np.sqrt(np.abs(1 / np.sum(np.linalg.inv(S)))))\n",
    "    try:\n",
    "        raw_weights = ef.efficient_risk(target_volatility)\n",
    "    except:\n",
    "        raw_weights =  ef.efficient_risk(np.sqrt(np.abs(1 / np.sum(np.linalg.inv(S)))))\n",
    "    cleaned_weights = ef.clean_weights()\n",
    "    return cleaned_weights, S"
   ]
  },
  {
   "cell_type": "code",
   "execution_count": 434,
   "metadata": {},
   "outputs": [],
   "source": [
    "def fractional_profit(cleaned_weights,portfolio_value_updated,i,start_date,data,interval):\n",
    "    monthly_earnings = 0\n",
    "    j=0\n",
    "    for key in cleaned_weights:\n",
    "        nb_shares =(portfolio_value_updated/get_latest_prices(data.loc[:monthdelta(start_date, i+interval)])[j])\n",
    "        price_diff = (get_latest_prices(data.loc[:monthdelta(start_date, i+2*interval)])[j] -get_latest_prices(data.loc[:monthdelta(start_date, i+interval)])[j])\n",
    "        monthly_earnings += cleaned_weights[str(key)]*nb_shares *price_diff\n",
    "        j = j +1\n",
    "    return monthly_earnings\n"
   ]
  },
  {
   "cell_type": "code",
   "execution_count": 456,
   "metadata": {},
   "outputs": [],
   "source": [
    "def tic_covariances(data_opt):\n",
    "    \n",
    "    #Country tree\n",
    "    data2 = {\"Ticker\": [\"TLT\",\"SPY\",\"LQD\",\"0P0000P1BG.F\", \"EXSA.DE\", \"0P00000RNA.F\"],\n",
    "        \"Country\":[115,115,115,125,125,125],\n",
    "       \"Structure\":[1,1,1,1,1,1]}\n",
    "    df2 = pd.DataFrame(data2)\n",
    "    \n",
    "    \n",
    "    #Asset type tree\n",
    "    data = {\"Ticker\": [\"TLT\",\"SPY\",\"LQD\",\"0P0000P1BG.F\", \"EXSA.DE\", \"0P00000RNA.F\"],\n",
    "        \"Asset Class\":[215,225,235,215,225,235],\n",
    "       \"Structure\":[2,2,2,2,2,2]}\n",
    "    \n",
    "    df = pd.DataFrame(data)\n",
    "    \n",
    "\n",
    "    \n",
    "    stock_returns = expected_returns.mean_historical_return(data_opt)\n",
    "    daily_returns = expected_returns.returns_from_prices(data_opt, log_returns=False)\n",
    "    \n",
    "    std_ticker = []\n",
    "    for key in range(stock_returns.shape[0]):\n",
    "        std_ticker.append(daily_returns.iloc[:, key].std()*np.sqrt(252))\n",
    "    corr_matrix = daily_returns.corr()\n",
    "    tn_relation = daily_returns.shape[0] / daily_returns.shape[1]\n",
    "    \n",
    "    tic = TIC()\n",
    "    tic_matrix = pd.DataFrame(tic.tic_correlation(df, corr_matrix, tn_relation, kde_bwidth=0.01))\n",
    "    matrix_distance = tic.corr_dist(corr_matrix, tic_matrix)\n",
    "    tic_cov = pypfopt.risk_models.corr_to_cov(tic_matrix,std_ticker)\n",
    "    \n",
    "    \n",
    "    tic2 = TIC()\n",
    "    tic_matrix_2 = pd.DataFrame(tic2.tic_correlation(df2, corr_matrix, tn_relation, kde_bwidth=0.01))\n",
    "    matrix_distance2 = tic2.corr_dist(corr_matrix, tic_matrix_2)\n",
    "    tic_cov2 = pypfopt.risk_models.corr_to_cov(tic_matrix_2,std_ticker)\n",
    "    \n",
    "    big_tic = (tic_matrix+tic_matrix_2)/2\n",
    "    big_tic_cov = pypfopt.risk_models.corr_to_cov(big_tic,std_ticker)\n",
    "    \n",
    "    empirical_covariance = risk_models.sample_cov(data_opt)\n",
    "    \n",
    "    return big_tic_cov, tic_cov, tic_cov2, empirical_covariance\n",
    "\n"
   ]
  },
  {
   "cell_type": "code",
   "execution_count": 457,
   "metadata": {},
   "outputs": [],
   "source": [
    "def investment_simulation(data, start_date, end_date, covariance, target_volatility, portfolio_value=1000000, interval=1):\n",
    "  i = -interval\n",
    "  portfolio_value_updated = portfolio_value\n",
    "  total_profit = 0\n",
    "  monthly_profit = 0\n",
    "  timer = True\n",
    "  cleaned_weights = {}\n",
    "  profit_values = []\n",
    "  month_values = []\n",
    "  cum_portfolio_value = []\n",
    "  while timer:\n",
    "    try:\n",
    "        cleaned_weights = optimisation(data.loc[monthdelta(start_date,i):monthdelta(start_date,i+interval)],covariance, target_volatility)[0]\n",
    "    except:\n",
    "        for element in data.keys():\n",
    "            cleaned_weights[element] = 1/data.shape[1]\n",
    "    monthly_profit = fractional_profit(cleaned_weights,portfolio_value_updated,i,start_date,data,interval)\n",
    "    \n",
    "\n",
    "    \n",
    "    month_values.append((i))\n",
    "    profit_values.append((monthly_profit/portfolio_value)*100)\n",
    "    cum_portfolio_value.append(portfolio_value_updated)\n",
    "    portfolio_value_updated += monthly_profit\n",
    "    i +=interval\n",
    "    if monthdelta(start_date,i) == end_date:\n",
    "      total_profit = portfolio_value_updated - 1000000\n",
    "      timer = False\n",
    "    #cov = optimisation(data_opt, covariance, target_volatility)[1]\n",
    "\n",
    "  return total_profit, profit_values, month_values,  cum_portfolio_value\n"
   ]
  },
  {
   "cell_type": "code",
   "execution_count": 458,
   "metadata": {},
   "outputs": [
    {
     "data": {
      "text/html": [
       "<div>\n",
       "<style scoped>\n",
       "    .dataframe tbody tr th:only-of-type {\n",
       "        vertical-align: middle;\n",
       "    }\n",
       "\n",
       "    .dataframe tbody tr th {\n",
       "        vertical-align: top;\n",
       "    }\n",
       "\n",
       "    .dataframe thead th {\n",
       "        text-align: right;\n",
       "    }\n",
       "</style>\n",
       "<table border=\"1\" class=\"dataframe\">\n",
       "  <thead>\n",
       "    <tr style=\"text-align: right;\">\n",
       "      <th></th>\n",
       "      <th>LQD</th>\n",
       "      <th>SPY</th>\n",
       "      <th>TLT</th>\n",
       "      <th>0P0000P1BG.F</th>\n",
       "      <th>EXSA.DE</th>\n",
       "    </tr>\n",
       "    <tr>\n",
       "      <th>Date</th>\n",
       "      <th></th>\n",
       "      <th></th>\n",
       "      <th></th>\n",
       "      <th></th>\n",
       "      <th></th>\n",
       "    </tr>\n",
       "  </thead>\n",
       "  <tbody>\n",
       "    <tr>\n",
       "      <th>2020-11-19</th>\n",
       "      <td>137.690002</td>\n",
       "      <td>357.779999</td>\n",
       "      <td>160.089996</td>\n",
       "      <td>NaN</td>\n",
       "      <td>45.447544</td>\n",
       "    </tr>\n",
       "    <tr>\n",
       "      <th>2020-11-20</th>\n",
       "      <td>137.570007</td>\n",
       "      <td>355.329987</td>\n",
       "      <td>161.509995</td>\n",
       "      <td>28.453441</td>\n",
       "      <td>45.739336</td>\n",
       "    </tr>\n",
       "    <tr>\n",
       "      <th>2020-11-23</th>\n",
       "      <td>137.740005</td>\n",
       "      <td>357.459991</td>\n",
       "      <td>160.770004</td>\n",
       "      <td>28.448695</td>\n",
       "      <td>45.626608</td>\n",
       "    </tr>\n",
       "    <tr>\n",
       "      <th>2020-11-24</th>\n",
       "      <td>137.429993</td>\n",
       "      <td>363.220001</td>\n",
       "      <td>159.169998</td>\n",
       "      <td>NaN</td>\n",
       "      <td>46.003082</td>\n",
       "    </tr>\n",
       "    <tr>\n",
       "      <th>2020-11-25</th>\n",
       "      <td>137.481506</td>\n",
       "      <td>362.820007</td>\n",
       "      <td>158.710007</td>\n",
       "      <td>NaN</td>\n",
       "      <td>46.268033</td>\n",
       "    </tr>\n",
       "  </tbody>\n",
       "</table>\n",
       "</div>"
      ],
      "text/plain": [
       "                   LQD         SPY         TLT  0P0000P1BG.F    EXSA.DE\n",
       "Date                                                                   \n",
       "2020-11-19  137.690002  357.779999  160.089996           NaN  45.447544\n",
       "2020-11-20  137.570007  355.329987  161.509995     28.453441  45.739336\n",
       "2020-11-23  137.740005  357.459991  160.770004     28.448695  45.626608\n",
       "2020-11-24  137.429993  363.220001  159.169998           NaN  46.003082\n",
       "2020-11-25  137.481506  362.820007  158.710007           NaN  46.268033"
      ]
     },
     "execution_count": 458,
     "metadata": {},
     "output_type": "execute_result"
    }
   ],
   "source": [
    "#New data set\n",
    "old_data = data_final.drop(\"0P00000RNA.F\",1)\n",
    "old_data.tail()"
   ]
  },
  {
   "cell_type": "code",
   "execution_count": 459,
   "metadata": {},
   "outputs": [],
   "source": [
    "def tic_covariances_2(data_opt):\n",
    "    \n",
    "    #Country tree\n",
    "    #Country tree\n",
    "    data2 = {\"Ticker\": [\"TLT\",\"SPY\",\"LQD\",\"0P0000P1BG.F\", \"EXSA.DE\"],\n",
    "        \"Country\":[115,115,115,125,125],\n",
    "       \"Structure\":[1,1,1,1,1]}\n",
    "    df2 = pd.DataFrame(data2)\n",
    "    \n",
    "    \n",
    "    #Asset type tree\n",
    "    data = {\"Ticker\": [\"TLT\",\"SPY\",\"LQD\",\"0P0000P1BG.F\", \"EXSA.DE\"],\n",
    "        \"Asset Class\":[215,225,235,215,225],\n",
    "       \"Structure\":[2,2,2,2,2],}\n",
    "    df = pd.DataFrame(data)\n",
    "\n",
    "    stock_returns = expected_returns.mean_historical_return(data_opt)\n",
    "    daily_returns = expected_returns.returns_from_prices(data_opt, log_returns=False)\n",
    "    \n",
    "    std_ticker = []\n",
    "    for key in range(stock_returns.shape[0]):\n",
    "        std_ticker.append(daily_returns.iloc[:, key].std()*np.sqrt(252))\n",
    "    corr_matrix = daily_returns.corr()\n",
    "    tn_relation = daily_returns.shape[0] / daily_returns.shape[1]\n",
    "    \n",
    "    tic = TIC()\n",
    "    tic_matrix = pd.DataFrame(tic.tic_correlation(df, corr_matrix, tn_relation, kde_bwidth=0.01))\n",
    "    matrix_distance = tic.corr_dist(corr_matrix, tic_matrix)\n",
    "    tic_cov = pypfopt.risk_models.corr_to_cov(tic_matrix,std_ticker)\n",
    "    \n",
    "    \n",
    "    tic2 = TIC()\n",
    "    tic_matrix_2 = pd.DataFrame(tic2.tic_correlation(df2, corr_matrix, tn_relation, kde_bwidth=0.01))\n",
    "    matrix_distance2 = tic2.corr_dist(corr_matrix, tic_matrix_2)\n",
    "    tic_cov2 = pypfopt.risk_models.corr_to_cov(tic_matrix_2,std_ticker)\n",
    "    \n",
    "    big_tic = (tic_matrix+tic_matrix_2)/2\n",
    "    big_tic_cov = pypfopt.risk_models.corr_to_cov(big_tic,std_ticker)\n",
    "    \n",
    "    empirical_covariance = risk_models.sample_cov(data_opt)\n",
    "    \n",
    "    return big_tic_cov, tic_cov, tic_cov2, empirical_covariance"
   ]
  },
  {
   "cell_type": "code",
   "execution_count": 460,
   "metadata": {},
   "outputs": [],
   "source": [
    "def optimisation_2(data_opt, covariance, target_volatility):\n",
    "    cleaned_weights = {}\n",
    "    \n",
    "    # Calculate the expected returns and covariance matrix based on that month\n",
    "    mu = expected_returns.mean_historical_return(data_opt)\n",
    "    S = tic_covariances_2(data_opt)[covariance]\n",
    "    # Optimise mean - variance to get weights for initialising investment process\n",
    "    ef = EfficientFrontier(mu, S)\n",
    "    #ef.add_objective(objective_functions.L2_reg, gamma = 1)\n",
    "    #print(np.sqrt(np.abs(1 / np.sum(np.linalg.inv(S)))))\n",
    "    try:\n",
    "        raw_weights = ef.efficient_risk(target_volatility)\n",
    "    except:\n",
    "        raw_weights = ef.efficient_risk(np.sqrt(np.abs(1 / np.sum(np.linalg.inv(S)))))\n",
    "    cleaned_weights = ef.clean_weights()\n",
    "    return cleaned_weights, S"
   ]
  },
  {
   "cell_type": "code",
   "execution_count": 461,
   "metadata": {},
   "outputs": [],
   "source": [
    "def investment_simulation_2(data, start_date, end_date, covariance, target_volatility, portfolio_value=1000000, interval=1):\n",
    "  i = -interval\n",
    "  portfolio_value_updated = portfolio_value\n",
    "  total_profit = 0\n",
    "  monthly_profit = 0\n",
    "  timer = True\n",
    "  cleaned_weights = {}\n",
    "  profit_values = []\n",
    "  month_values = []\n",
    "  cum_portfolio_value = []\n",
    "  t = 0\n",
    "  while timer:\n",
    "    try:\n",
    "        cleaned_weights = optimisation_2(data.loc[monthdelta(start_date,i):monthdelta(start_date,i+interval)],covariance,target_volatility)[0]\n",
    "        \n",
    "    except:\n",
    "        t = t+1\n",
    "        for element in portfolio_tickers:\n",
    "            cleaned_weights[element] = 1/len(portfolio_tickers)\n",
    "    monthly_profit = fractional_profit(cleaned_weights,portfolio_value_updated,i,start_date,data,interval)\n",
    "    portfolio_value_updated += monthly_profit\n",
    "    \n",
    "    month_values.append((i))\n",
    "    profit_values.append((monthly_profit/portfolio_value)*100)\n",
    "    cum_portfolio_value.append(portfolio_value_updated)\n",
    "    i +=interval\n",
    "    if monthdelta(start_date,i) == end_date:\n",
    "      total_profit = portfolio_value_updated - 1000000\n",
    "      timer = False\n",
    "\n",
    "    #cov = optimisation(data_opt, covariance,target_volatility)[1]\n",
    "    \n",
    "\n",
    "\n",
    "  return total_profit, profit_values, month_values,  cum_portfolio_value\n"
   ]
  },
  {
   "cell_type": "code",
   "execution_count": 464,
   "metadata": {},
   "outputs": [
    {
     "name": "stdout",
     "output_type": "stream",
     "text": [
      "i\n",
      "i\n",
      "i\n",
      "i\n",
      "i\n",
      "i\n",
      "i\n",
      "i\n",
      "i\n",
      "i\n",
      "i\n",
      "i\n",
      "i\n"
     ]
    }
   ],
   "source": [
    "my_list = [0.08,0.09,0.10,0.11,0.12,0.13,0.14,0.15,0.16,0.17,0.18,0.19,0.20]\n",
    "profit_list0 = []\n",
    "profit_list1 = []\n",
    "profit_list2 = []\n",
    "profit_list3 = []\n",
    "for value in my_list:\n",
    "    total_profits_old0 = investment_simulation_2(old_data,date(2012, month = 8, day = 3),date(year = 2018, month = 1, day = 3) , 0,value,1000000, interval=1)[0]\n",
    "    total_profits_old1 = investment_simulation_2(old_data,date(2012, month = 8, day = 3),date(year = 2018, month = 1, day = 3) , 1,value,1000000, interval=1)[0]\n",
    "    total_profits_old2 = investment_simulation_2(old_data,date(2012, month = 8, day = 3),date(year = 2018, month = 1, day = 3) , 2,value,1000000, interval=1)[0]\n",
    "    total_profits_old3 = investment_simulation_2(old_data,date(2012, month = 8, day = 3),date(year = 2018, month = 1, day = 3) , 3,value,1000000, interval=1)[0]\n",
    "    \n",
    "    \n",
    "    total_profits0= investment_simulation(data_final,date(2018, month = 1, day = 3),date(year = 2020, month = 11, day = 3) , 0,value,1000000+total_profits_old0, interval=1)[0]\n",
    "    total_profits1 = investment_simulation(data_final,date(2018, month = 1, day = 3),date(year = 2020, month = 11, day = 3),1,value,1000000+total_profits_old1,  interval=1)[0]\n",
    "    total_profits2 = investment_simulation(data_final,date(2018, month = 1, day = 3),date(year = 2020, month = 11, day = 3),2,value,1000000+total_profits_old2,  interval=1)[0]\n",
    "    total_profits3 = investment_simulation(data_final,date(2018, month = 1, day = 3),date(year = 2020, month = 11, day = 3),3,value,1000000+total_profits_old3,  interval=1)[0]\n",
    "    \n",
    "    profit_list0.append(total_profits0)\n",
    "    profit_list1.append(total_profits1)\n",
    "    profit_list2.append(total_profits2)\n",
    "    profit_list3.append(total_profits3)\n",
    "    print(\"i\")"
   ]
  },
  {
   "cell_type": "code",
   "execution_count": 466,
   "metadata": {
    "scrolled": true
   },
   "outputs": [
    {
     "data": {
      "image/png": "[encoded data removed]",
      "text/plain": [
       "<Figure size 1800x720 with 1 Axes>"
      ]
     },
     "metadata": {
      "needs_background": "light"
     },
     "output_type": "display_data"
    }
   ],
   "source": [
    "import matplotlib.pyplot as plt\n",
    "\n",
    "#import calendar\n",
    "#months = {1 + (i-10) % 12:calendar.month_name[i] for i in range(0, 12)}\n",
    "#print(months, month0) #numbers correspond to month\n",
    "\n",
    "plt.figure(figsize=(25, 10))\n",
    "line0 = plt.plot(my_list, profit_list0, 'b', label='Combined TIC model')\n",
    "line1 = plt.plot(my_list, profit_list1, 'm', label='Asset Type TIC model')\n",
    "line2 = plt.plot(my_list, profit_list2, 'g', label='Country TIC model')\n",
    "line3 = plt.plot(my_list, profit_list3, 'y', label='MVO model')\n",
    "plt.title('Profits as a function of desired expected returns (1 million portfolio value)')\n",
    "plt.xlabel('Target Volatility ')\n",
    "plt.ylabel('Profits')\n",
    "\n",
    "\n",
    "plt.legend()\n",
    "plt.show()"
   ]
  },
  {
   "cell_type": "code",
   "execution_count": 462,
   "metadata": {
    "scrolled": true
   },
   "outputs": [
    {
     "name": "stdout",
     "output_type": "stream",
     "text": [
      "943329.8078202035\n"
     ]
    }
   ],
   "source": [
    "total_profits_old1 = investment_simulation_2(old_data,date(2012, month = 8, day = 3),date(year = 2018, month = 1, day = 3) , 3,0.08,1000000, interval=1)[0]\n",
    "total_profits1 = investment_simulation(data_final,date(2018, month = 1, day = 3),date(year = 2020, month = 11, day = 3),3,0.08,1000000+total_profits_old1,  interval=1)[0]\n",
    "print(total_profits1)"
   ]
  },
  {
   "cell_type": "code",
   "execution_count": 463,
   "metadata": {},
   "outputs": [
    {
     "name": "stdout",
     "output_type": "stream",
     "text": [
      "921499.1174698405\n"
     ]
    }
   ],
   "source": [
    "total_profits_old1 = investment_simulation_2(old_data,date(2012, month = 8, day = 3),date(year = 2018, month = 1, day = 3) , 2,0.08,1000000, interval=1)[0]\n",
    "total_profits1 = investment_simulation(data_final,date(2018, month = 1, day = 3),date(year = 2020, month = 11, day = 3),2,0.08,1000000+total_profits_old1,  interval=1)[0]\n",
    "print(total_profits1)"
   ]
  },
  {
   "cell_type": "code",
   "execution_count": 451,
   "metadata": {},
   "outputs": [
    {
     "name": "stdout",
     "output_type": "stream",
     "text": [
      "812702.4849460323\n"
     ]
    }
   ],
   "source": [
    "print(total_profits1)"
   ]
  },
  {
   "cell_type": "code",
   "execution_count": null,
   "metadata": {},
   "outputs": [],
   "source": []
  },
  {
   "cell_type": "code",
   "execution_count": null,
   "metadata": {},
   "outputs": [],
   "source": [
    "## Plotting cumulative portfolio value against Date for a target volatility Section"
   ]
  },
  {
   "cell_type": "code",
   "execution_count": null,
   "metadata": {},
   "outputs": [],
   "source": [
    "total_profits_old0, monthly_profits_old0, month_old0, covariance_old0,cum_portfolio_value_old0 = investment_simulation_2(old_data,date(2012, month = 8, day = 3),\n",
    "                        date(year = 2018, month = 1, day = 3) , 0,1000000, interval=1)\n",
    "total_profits_old1, monthly_profits_old1, month_old1, covariance_old1,cum_portfolio_value_old1 = investment_simulation_2(old_data,date(2012, month = 8, day = 3),\n",
    "                        date(year = 2018, month = 1, day = 3) , 1,1000000, interval=1)\n",
    "total_profits_old2, monthly_profits_old2, month_old2, covariance_old2,cum_portfolio_value_old2 = investment_simulation_2(old_data,date(2012, month = 8, day = 3),\n",
    "                        date(year = 2018, month = 1, day = 3) , 2,1000000, interval=1)\n",
    "total_profits_old3, monthly_profits_old3, month_old3, covariance_old3,cum_portfolio_value_old3 = investment_simulation_2(old_data,date(2012, month = 8, day = 3),\n",
    "                        date(year = 2018, month = 1, day = 3) , 3,1000000, interval=1)"
   ]
  },
  {
   "cell_type": "code",
   "execution_count": null,
   "metadata": {},
   "outputs": [],
   "source": [
    "#covariance argument: 0 is for big_tic_cov, 1 is for asset type_covariance, 2 is for country_covariance, 3 is for empirical_covariance \n",
    "\n",
    "\n",
    "total_profits0, monthly_profits0, month0, covariance0,cum_portfolio_value0 = investment_simulation(data_final,date(2018, month = 1, day = 3),\n",
    "                        date(year = 2020, month = 11, day = 3) , 0,1000000+total_profits_old0, interval=1)\n",
    "total_profits1, monthly_profits1, month1, covariance1,cum_portfolio_value1 = investment_simulation(data_final,date(2018, month = 1, day = 3),\n",
    "                        date(year = 2020, month = 11, day = 3),\n",
    "                        1,1000000+total_profits_old1,  interval=1)\n",
    "total_profits2, monthly_profits2, month2, covariance2,cum_portfolio_value2 = investment_simulation(data_final,date(2018, month = 1, day = 3),\n",
    "                        date(year = 2020, month = 11, day = 3),\n",
    "                        2,1000000+total_profits_old2,  interval=1)\n",
    "total_profits3, monthly_profits3, month3, covariance3,cum_portfolio_value3 = investment_simulation(data_final,date(2018, month = 1, day = 3),\n",
    "                        date(year = 2020, month = 11, day = 3),\n",
    "                        3,1000000+total_profits_old3,  interval=1)"
   ]
  },
  {
   "cell_type": "code",
   "execution_count": null,
   "metadata": {},
   "outputs": [],
   "source": [
    "#Months of our investment period : 03/08/2012 to 03/11/2020 (date when EXSA.DE starts giving daily values -- \"0P00000RNA.F\" starts in january 2018)\n",
    "i = 1\n",
    "nb_years = 9\n",
    "\n",
    "year = 12\n",
    "month_list = []\n",
    "for t in range(0,nb_years):\n",
    "    for month in calendar.month_name[1:]:\n",
    "        a = str(i)+\"/\" + str(year)\n",
    "        month_list.append(a)\n",
    "        i = i +1\n",
    "        \n",
    "        if i % 13 == 0:\n",
    "            year+=1\n",
    "            i=1\n",
    "our_month_list = month_list[7:-1]"
   ]
  },
  {
   "cell_type": "code",
   "execution_count": null,
   "metadata": {},
   "outputs": [],
   "source": [
    "import matplotlib.pyplot as plt\n",
    "\n",
    "#import calendar\n",
    "#months = {1 + (i-10) % 12:calendar.month_name[i] for i in range(0, 12)}\n",
    "#print(months, month0) #numbers correspond to month\n",
    "\n",
    "plt.figure(figsize=(25, 10))\n",
    "line0 = plt.plot(our_month_list,monthly_profits_old0 + monthly_profits0[1:], 'b', label='Combined TIC model')\n",
    "line1 = plt.plot(our_month_list, monthly_profits_old1 + monthly_profits1[1:], 'm', label='Asset Type TIC model')\n",
    "line2 = plt.plot(our_month_list, monthly_profits_old2 + monthly_profits2[1:], 'g', label='Country TIC model')\n",
    "line3 = plt.plot(our_month_list, monthly_profits_old3 + monthly_profits3[1:], 'y', label='MVO model')\n",
    "plt.title('returns each month from £1m with expected monthly return of 3%')\n",
    "plt.xlabel('Month (2019-2020)')\n",
    "plt.ylabel('return as % of intial investment')\n",
    "\n",
    "plt.axhline(0,linestyle = \"--\")\n",
    "\n",
    "plt.legend()\n",
    "plt.show()"
   ]
  },
  {
   "cell_type": "code",
   "execution_count": null,
   "metadata": {},
   "outputs": [],
   "source": [
    "#import calendar\n",
    "#months = {1 + (i-10) % 12:calendar.month_name[i] for i in range(0, 12)}\n",
    "#print(months, month0) #numbers correspond to month\n",
    "\n",
    "\n",
    "plt.figure(figsize=(50, 20))\n",
    "line0 = plt.plot(our_month_list, cum_portfolio_value_old0 + cum_portfolio_value0[1:], 'b', label='Combined TIC model')\n",
    "line1 = plt.plot(our_month_list,cum_portfolio_value_old1 + cum_portfolio_value1[1:], 'm', label='Asset Type TIC model')\n",
    "line2 = plt.plot(our_month_list, cum_portfolio_value_old2 + cum_portfolio_value2[1:], 'g', label='Country TIC model')\n",
    "line3 = plt.plot(our_month_list, cum_portfolio_value_old3 + cum_portfolio_value3[1:], 'y', label='MVO model')\n",
    "#line4 = plt.plot(months_str, diff, 'y', label='MVO model')\n",
    "plt.title('cumulative portfolio value from £1m with expected monthly return of 3%')\n",
    "plt.xlabel('Month (2019-2020)')\n",
    "plt.ylabel('Cumulative portfolio value with initial value of 1000000')\n",
    "\n",
    "\n",
    "\n",
    "plt.legend()\n",
    "plt.show()\n",
    "print(\"Combined\",total_profits_old0 +total_profits0)\n",
    "print(\"Asset class\",total_profits_old1 + total_profits1)\n",
    "print(\"Country\",total_profits_old2 +total_profits2)\n",
    "print(\"MVO\",total_profits_old3 +total_profits3)"
   ]
  },
  {
   "cell_type": "code",
   "execution_count": null,
   "metadata": {},
   "outputs": [],
   "source": []
  },
  {
   "cell_type": "code",
   "execution_count": null,
   "metadata": {},
   "outputs": [],
   "source": []
  }
 ],
 "metadata": {
  "kernelspec": {
   "display_name": "Python 3",
   "language": "python",
   "name": "python3"
  },
  "language_info": {
   "codemirror_mode": {
    "name": "ipython",
    "version": 3
   },
   "file_extension": ".py",
   "mimetype": "text/x-python",
   "name": "python",
   "nbconvert_exporter": "python",
   "pygments_lexer": "ipython3",
   "version": "3.7.4"
  }
 },
 "nbformat": 4,
 "nbformat_minor": 4
}
